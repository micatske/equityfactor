{
  "cells": [
    {
      "cell_type": "code",
      "execution_count": null,
      "metadata": {
        "id": "ZVU9p9LbsatK"
      },
      "outputs": [],
      "source": [
        "%load_ext autoreload\n",
        "%autoreload 2"
      ]
    },
    {
      "cell_type": "code",
      "execution_count": null,
      "metadata": {
        "id": "rcLI1atQtM5t"
      },
      "outputs": [],
      "source": [
        "from pl_data_module import QRTDataModule\n",
        "from pl_module import QRTChallengeRegressor\n",
        "from ray.tune.integration.pytorch_lightning import TuneReportCallback\n",
        "import pytorch_lightning as pl\n",
        "from ray import tune"
      ]
    },
    {
      "cell_type": "code",
      "execution_count": null,
      "metadata": {
        "id": "b3GoUZaZta3U"
      },
      "outputs": [],
      "source": [
        "def train_qrt(config, data_dir, num_gpus=0):\n",
        "    model = QRTChallengeRegressor(config)\n",
        "    dm = QRTDataModule(\n",
        "        data_dir=data_dir, num_workers=1, batch_size=config[\"batch_size\"])\n",
        "    metrics = {\"mse_loss\": \"ptl/mse_loss\", \"cel_loss\": \"ptl/cel_loss\"}\n",
        "    trainer = pl.Trainer(\n",
        "        max_epochs=config[\"num_epochs\"],\n",
        "        gpus=num_gpus,\n",
        "        progress_bar_refresh_rate=0,\n",
        "        callbacks=[TuneReportCallback(metrics, on=\"validation_end\")])\n",
        "    trainer.fit(model, dm)"
      ]
    },
    {
      "cell_type": "code",
      "execution_count": null,
      "metadata": {
        "id": "OODJ5xPdthzc"
      },
      "outputs": [],
      "source": [
        "config = {\n",
        " \"dropout\": tune.choice([0, 0.2, 0.5]),\n",
        " \"num_epochs\": tune.choice([20, 40, 60, 80, 100]),\n",
        " \"lr\": tune.loguniform(1e-5, 1e-1),\n",
        " \"batch_size\": tune.choice([32, 64, 128])\n",
        "}"
      ]
    },
    {
      "cell_type": "code",
      "execution_count": null,
      "metadata": {
        "colab": {
          "base_uri": "https://localhost:8080/",
          "height": 1000
        },
        "id": "MMUDh9OItkXh",
        "outputId": "ce666e6c-485d-4cbc-96a6-54653a324559"
      },
      "outputs": [],
      "source": [
        "# Execute the hyperparameter search\n",
        "analysis = tune.run(\n",
        " tune.with_parameters(train_qrt, data_dir = \"/content/QRT_DataChallenge/data\", num_gpus=0),\n",
        " config=config,\n",
        " num_samples=10, checkpoint_at_end=True, metric=\"cel_loss\", mode=\"min\")"
      ]
    },
    {
      "cell_type": "code",
      "execution_count": null,
      "metadata": {
        "id": "jUIjkgUM2Qn5"
      },
      "outputs": [],
      "source": [
        "config_to_use = analysis.best_config"
      ]
    },
    {
      "cell_type": "code",
      "execution_count": null,
      "metadata": {
        "colab": {
          "base_uri": "https://localhost:8080/"
        },
        "id": "ev5sYSGs4qB5",
        "outputId": "4a0638c4-6d5a-42eb-cb6b-c3aaacd70f10"
      },
      "outputs": [],
      "source": [
        "model = QRTChallengeRegressor(config_to_use)\n",
        "dm = QRTDataModule(\n",
        "    data_dir=\"/content/QRT_DataChallenge/data\", num_splits= 1, num_workers=1, batch_size=config_to_use[\"batch_size\"])\n",
        "metrics = {\"mse_loss\": \"ptl/mse_loss\", \"cel_loss\": \"ptl/cel_loss\"}\n",
        "trainer = pl.Trainer(\n",
        "    max_epochs=config_to_use[\"num_epochs\"],\n",
        "    progress_bar_refresh_rate=0)\n",
        "trainer.fit(model, dm)"
      ]
    },
    {
      "cell_type": "code",
      "execution_count": null,
      "metadata": {
        "id": "xHeJ05cM-FMY"
      },
      "outputs": [],
      "source": [
        "from utils import extract_AB, createSubmission\n",
        "\n",
        "A, beta = extract_AB(model.model)\n",
        "df_out = createSubmission(A, beta, 1, \"full_train_data_no_val\")"
      ]
    },
    {
      "cell_type": "code",
      "execution_count": null,
      "metadata": {
        "colab": {
          "base_uri": "https://localhost:8080/"
        },
        "id": "oC3zCqW7-weA",
        "outputId": "a0501fb9-e3e9-45c9-ccde-f2131a921064"
      },
      "outputs": [],
      "source": [
        "config_to_use"
      ]
    },
    {
      "cell_type": "code",
      "execution_count": null,
      "metadata": {
        "id": "2ITaM-lz_IjN"
      },
      "outputs": [],
      "source": []
    }
  ],
  "metadata": {
    "accelerator": "GPU",
    "colab": {
      "name": "Untitled28.ipynb",
      "provenance": []
    },
    "gpuClass": "standard",
    "kernelspec": {
      "display_name": "Python 3.9.1 64-bit",
      "language": "python",
      "name": "python3"
    },
    "language_info": {
      "name": "python",
      "version": "3.9.1"
    },
    "vscode": {
      "interpreter": {
        "hash": "81794d4967e6c3204c66dcd87b604927b115b27c00565d3d43f05ba2f3a2cb0d"
      }
    }
  },
  "nbformat": 4,
  "nbformat_minor": 0
}
